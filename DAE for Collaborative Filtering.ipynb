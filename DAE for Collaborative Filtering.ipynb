{
 "cells": [
  {
   "cell_type": "markdown",
   "metadata": {},
   "source": [
    "## Collaborative Filtering on Market Basket Data using Denoising Autoencoder"
   ]
  },
  {
   "cell_type": "markdown",
   "metadata": {},
   "source": [
    "#### Import required packages"
   ]
  },
  {
   "cell_type": "code",
   "execution_count": 2,
   "metadata": {
    "collapsed": true,
    "scrolled": true
   },
   "outputs": [],
   "source": [
    "import numpy as np\n",
    "import pandas as pd\n",
    "import tensorflow as tf\n",
    "from sklearn.metrics import roc_auc_score\n",
    "\n",
    "import matplotlib.pyplot as plt\n",
    "import seaborn as sns\n",
    "sns.set_style(\"whitegrid\")"
   ]
  },
  {
   "cell_type": "markdown",
   "metadata": {},
   "source": [
    "#### Read market basket dataset"
   ]
  },
  {
   "cell_type": "code",
   "execution_count": 13,
   "metadata": {
    "scrolled": false
   },
   "outputs": [
    {
     "data": {
      "text/html": [
       "<div>\n",
       "<style>\n",
       "    .dataframe thead tr:only-child th {\n",
       "        text-align: right;\n",
       "    }\n",
       "\n",
       "    .dataframe thead th {\n",
       "        text-align: left;\n",
       "    }\n",
       "\n",
       "    .dataframe tbody tr th {\n",
       "        vertical-align: top;\n",
       "    }\n",
       "</style>\n",
       "<table border=\"1\" class=\"dataframe\">\n",
       "  <thead>\n",
       "    <tr style=\"text-align: right;\">\n",
       "      <th></th>\n",
       "      <th>1</th>\n",
       "      <th>2</th>\n",
       "      <th>3</th>\n",
       "      <th>4</th>\n",
       "      <th>5</th>\n",
       "      <th>6</th>\n",
       "      <th>7</th>\n",
       "      <th>8</th>\n",
       "      <th>9</th>\n",
       "      <th>10</th>\n",
       "      <th>...</th>\n",
       "      <th>23</th>\n",
       "      <th>24</th>\n",
       "      <th>25</th>\n",
       "      <th>26</th>\n",
       "      <th>27</th>\n",
       "      <th>28</th>\n",
       "      <th>29</th>\n",
       "      <th>30</th>\n",
       "      <th>31</th>\n",
       "      <th>32</th>\n",
       "    </tr>\n",
       "  </thead>\n",
       "  <tbody>\n",
       "    <tr>\n",
       "      <th>0</th>\n",
       "      <td>citrus fruit</td>\n",
       "      <td>semi-finished bread</td>\n",
       "      <td>margarine</td>\n",
       "      <td>ready soups</td>\n",
       "      <td>None</td>\n",
       "      <td>None</td>\n",
       "      <td>None</td>\n",
       "      <td>None</td>\n",
       "      <td>None</td>\n",
       "      <td>None</td>\n",
       "      <td>...</td>\n",
       "      <td>None</td>\n",
       "      <td>None</td>\n",
       "      <td>None</td>\n",
       "      <td>None</td>\n",
       "      <td>None</td>\n",
       "      <td>None</td>\n",
       "      <td>None</td>\n",
       "      <td>None</td>\n",
       "      <td>None</td>\n",
       "      <td>None</td>\n",
       "    </tr>\n",
       "    <tr>\n",
       "      <th>1</th>\n",
       "      <td>tropical fruit</td>\n",
       "      <td>yogurt</td>\n",
       "      <td>coffee</td>\n",
       "      <td>None</td>\n",
       "      <td>None</td>\n",
       "      <td>None</td>\n",
       "      <td>None</td>\n",
       "      <td>None</td>\n",
       "      <td>None</td>\n",
       "      <td>None</td>\n",
       "      <td>...</td>\n",
       "      <td>None</td>\n",
       "      <td>None</td>\n",
       "      <td>None</td>\n",
       "      <td>None</td>\n",
       "      <td>None</td>\n",
       "      <td>None</td>\n",
       "      <td>None</td>\n",
       "      <td>None</td>\n",
       "      <td>None</td>\n",
       "      <td>None</td>\n",
       "    </tr>\n",
       "    <tr>\n",
       "      <th>2</th>\n",
       "      <td>whole milk</td>\n",
       "      <td>None</td>\n",
       "      <td>None</td>\n",
       "      <td>None</td>\n",
       "      <td>None</td>\n",
       "      <td>None</td>\n",
       "      <td>None</td>\n",
       "      <td>None</td>\n",
       "      <td>None</td>\n",
       "      <td>None</td>\n",
       "      <td>...</td>\n",
       "      <td>None</td>\n",
       "      <td>None</td>\n",
       "      <td>None</td>\n",
       "      <td>None</td>\n",
       "      <td>None</td>\n",
       "      <td>None</td>\n",
       "      <td>None</td>\n",
       "      <td>None</td>\n",
       "      <td>None</td>\n",
       "      <td>None</td>\n",
       "    </tr>\n",
       "    <tr>\n",
       "      <th>3</th>\n",
       "      <td>pip fruit</td>\n",
       "      <td>yogurt</td>\n",
       "      <td>cream cheese</td>\n",
       "      <td>meat spreads</td>\n",
       "      <td>None</td>\n",
       "      <td>None</td>\n",
       "      <td>None</td>\n",
       "      <td>None</td>\n",
       "      <td>None</td>\n",
       "      <td>None</td>\n",
       "      <td>...</td>\n",
       "      <td>None</td>\n",
       "      <td>None</td>\n",
       "      <td>None</td>\n",
       "      <td>None</td>\n",
       "      <td>None</td>\n",
       "      <td>None</td>\n",
       "      <td>None</td>\n",
       "      <td>None</td>\n",
       "      <td>None</td>\n",
       "      <td>None</td>\n",
       "    </tr>\n",
       "    <tr>\n",
       "      <th>4</th>\n",
       "      <td>other vegetables</td>\n",
       "      <td>whole milk</td>\n",
       "      <td>condensed milk</td>\n",
       "      <td>long life bakery product</td>\n",
       "      <td>None</td>\n",
       "      <td>None</td>\n",
       "      <td>None</td>\n",
       "      <td>None</td>\n",
       "      <td>None</td>\n",
       "      <td>None</td>\n",
       "      <td>...</td>\n",
       "      <td>None</td>\n",
       "      <td>None</td>\n",
       "      <td>None</td>\n",
       "      <td>None</td>\n",
       "      <td>None</td>\n",
       "      <td>None</td>\n",
       "      <td>None</td>\n",
       "      <td>None</td>\n",
       "      <td>None</td>\n",
       "      <td>None</td>\n",
       "    </tr>\n",
       "  </tbody>\n",
       "</table>\n",
       "<p>5 rows × 32 columns</p>\n",
       "</div>"
      ],
      "text/plain": [
       "                  1                    2               3  \\\n",
       "0      citrus fruit  semi-finished bread       margarine   \n",
       "1    tropical fruit               yogurt          coffee   \n",
       "2        whole milk                 None            None   \n",
       "3         pip fruit               yogurt   cream cheese    \n",
       "4  other vegetables           whole milk  condensed milk   \n",
       "\n",
       "                          4     5     6     7     8     9    10  ...     23  \\\n",
       "0               ready soups  None  None  None  None  None  None  ...   None   \n",
       "1                      None  None  None  None  None  None  None  ...   None   \n",
       "2                      None  None  None  None  None  None  None  ...   None   \n",
       "3              meat spreads  None  None  None  None  None  None  ...   None   \n",
       "4  long life bakery product  None  None  None  None  None  None  ...   None   \n",
       "\n",
       "     24    25    26    27    28    29    30    31    32  \n",
       "0  None  None  None  None  None  None  None  None  None  \n",
       "1  None  None  None  None  None  None  None  None  None  \n",
       "2  None  None  None  None  None  None  None  None  None  \n",
       "3  None  None  None  None  None  None  None  None  None  \n",
       "4  None  None  None  None  None  None  None  None  None  \n",
       "\n",
       "[5 rows x 32 columns]"
      ]
     },
     "execution_count": 13,
     "metadata": {},
     "output_type": "execute_result"
    }
   ],
   "source": [
    "cols = ['1','2','3','4','5','6','7','8','9','10','11','12',\n",
    "        '13','14','15','16','17','18','19','20','21','22',\n",
    "        '23','24','25','26','27','28','29','30','31','32']\n",
    "\n",
    "df = pd.read_csv(\"groceries.csv\", sep = \",\", \n",
    "                 names = cols, engine = \"python\")\n",
    "data = np.array(df)\n",
    "df.head(5)"
   ]
  },
  {
   "cell_type": "markdown",
   "metadata": {},
   "source": [
    "#### Helper functions for pre-processing dataset"
   ]
  },
  {
   "cell_type": "code",
   "execution_count": 4,
   "metadata": {
    "collapsed": true,
    "scrolled": true
   },
   "outputs": [],
   "source": [
    "def get_unique_items(data):\n",
    "    ncol = data.shape[1]\n",
    "    items = set()\n",
    "    for c in range(ncol):\n",
    "        items = items.union(data[:,c])\n",
    "    items = np.array(list(items))\n",
    "    items = items[items != np.array(None)]\n",
    "\n",
    "    return np.unique(items)\n",
    "\n",
    "def get_onehot_items(data,unique_items):\n",
    "    onehot_items = np.zeros((len(data),len(unique_items)),dtype = np.int)\n",
    "    for i, r in enumerate(data):\n",
    "        for j, c in enumerate(unique_items):\n",
    "            onehot_items[i,j] = int(c in r)\n",
    "            \n",
    "    return onehot_items\n",
    "\n",
    "def get_items_from_ohe(ohe,unique_items):\n",
    "    return unique_items[np.flatnonzero(ohe)]"
   ]
  },
  {
   "cell_type": "code",
   "execution_count": 5,
   "metadata": {
    "collapsed": true,
    "scrolled": true
   },
   "outputs": [],
   "source": [
    "unique_items = get_unique_items(data)\n",
    "onehot_items = np.array(get_onehot_items(data, unique_items))"
   ]
  },
  {
   "cell_type": "code",
   "execution_count": 17,
   "metadata": {},
   "outputs": [
    {
     "data": {
      "image/png": "[encoded data removed]",
      "text/plain": [
       "<matplotlib.figure.Figure at 0x1ad6aecb2b0>"
      ]
     },
     "metadata": {},
     "output_type": "display_data"
    }
   ],
   "source": [
    "n = 10\n",
    "item_counts = (onehot_items != 0).sum(0)\n",
    "items_max_args = item_counts.argsort()[-n:][::-1]\n",
    "ic = pd.DataFrame({\"Items\":unique_items[items_max_args], \"Frequency\":item_counts[items_max_args]})\n",
    "\n",
    "\n",
    "fig = plt.figure(figsize = (16,8))\n",
    "sns.barplot(x=\"Items\", y=\"Frequency\", data=ic, palette=sns.color_palette(\"Set2\", 10))\n",
    "plt.xlabel(\"Items\")\n",
    "plt.ylabel(\"Frequency\")\n",
    "plt.title(str(n) + \" Most frequent items in the dataset\")\n",
    "plt.show()"
   ]
  },
  {
   "cell_type": "markdown",
   "metadata": {},
   "source": [
    "#### Split dataset into train, test and validation"
   ]
  },
  {
   "cell_type": "code",
   "execution_count": 18,
   "metadata": {
    "scrolled": true
   },
   "outputs": [
    {
     "name": "stdout",
     "output_type": "stream",
     "text": [
      "\n"
     ]
    }
   ],
   "source": [
    "train_test_split = np.random.rand(len(onehot_items)) < 0.80\n",
    "train_x = onehot_items[train_test_split]\n",
    "test_x = onehot_items[~train_test_split]\n",
    "print()\n",
    "\n",
    "train_validation_split = np.random.rand(len(train_x)) < 0.80\n",
    "validation_x = train_x[~train_validation_split]\n",
    "train_x = train_x[train_validation_split]"
   ]
  },
  {
   "cell_type": "markdown",
   "metadata": {},
   "source": [
    "#### Helper functions for defining Denoising Autoencoder (DAE) model"
   ]
  },
  {
   "cell_type": "code",
   "execution_count": 19,
   "metadata": {
    "collapsed": true,
    "scrolled": true
   },
   "outputs": [],
   "source": [
    "def weight_variable(weight_name, weight_shape):\n",
    "    return tf.get_variable(name = \"weight_\" + weight_name,shape = weight_shape, \n",
    "            initializer = tf.contrib.layers.xavier_initializer()) \n",
    "\n",
    "def bias_variable(bias_shape):\n",
    "    initial = tf.constant(0.1, shape = bias_shape)\n",
    "    return tf.Variable(initial)\n",
    "\n",
    "def encoder(x):\n",
    "    l1 = tf.nn.softsign(tf.add(tf.matmul(x,e_weights_h1),e_biases_h1))\n",
    "    l2 = tf.nn.softsign(tf.add(tf.matmul(l1,e_weights_h2),e_biases_h2))\n",
    "    l3 = tf.nn.softsign(tf.add(tf.matmul(l2,e_weights_h3),e_biases_h3))\n",
    "    l4 = tf.nn.sigmoid(tf.add(tf.matmul(l3,e_weights_h4),e_biases_h4))\n",
    "    return l4\n",
    "    \n",
    "def decoder(x):\n",
    "    l1 = tf.nn.softsign(tf.add(tf.matmul(x,d_weights_h1),d_biases_h1))\n",
    "    l2 = tf.nn.softsign(tf.add(tf.matmul(l1,d_weights_h2),d_biases_h2))\n",
    "    l3 = tf.nn.softsign(tf.add(tf.matmul(l2,d_weights_h3),d_biases_h3))\n",
    "    l4 = tf.nn.sigmoid(tf.add(tf.matmul(l3,d_weights_h4),d_biases_h4))\n",
    "    return l4"
   ]
  },
  {
   "cell_type": "markdown",
   "metadata": {},
   "source": [
    "#### Configuration vairables "
   ]
  },
  {
   "cell_type": "code",
   "execution_count": 20,
   "metadata": {
    "collapsed": true,
    "scrolled": true
   },
   "outputs": [],
   "source": [
    "input_dim = 169\n",
    "\n",
    "n_hidden_1 = 128\n",
    "n_hidden_2 = 64\n",
    "n_hidden_3 = 32\n",
    "n_hidden_4 = 16\n",
    "\n",
    "training_epochs = 30\n",
    "batch_size = 10\n",
    "total_batches = (train_x.shape[0] // batch_size)\n",
    "\n",
    "learning_rate = 0.00002\n",
    "keep_prob = 0.6\n",
    "l2_reg_rate = 0.00001"
   ]
  },
  {
   "cell_type": "markdown",
   "metadata": {},
   "source": [
    "#### Defining DAE model architecture and loss function"
   ]
  },
  {
   "cell_type": "code",
   "execution_count": 21,
   "metadata": {
    "collapsed": true,
    "scrolled": false
   },
   "outputs": [],
   "source": [
    "tf.reset_default_graph()\n",
    "\n",
    "is_training = tf.placeholder_with_default(False, shape = ())\n",
    "X = tf.placeholder(tf.float32, shape=[None,input_dim])\n",
    "X_drop = tf.contrib.layers.dropout(X, keep_prob, is_training = is_training)\n",
    "\n",
    "\n",
    "# --------------------- Encoder Variables --------------- #\n",
    "\n",
    "e_weights_h1 = weight_variable(\"el1\",[input_dim, n_hidden_1])\n",
    "e_biases_h1 = bias_variable([n_hidden_1])\n",
    "\n",
    "e_weights_h2 = weight_variable(\"el2\",[n_hidden_1, n_hidden_2])\n",
    "e_biases_h2 = bias_variable([n_hidden_2])\n",
    "\n",
    "e_weights_h3 = weight_variable(\"el3\",[n_hidden_2, n_hidden_3])\n",
    "e_biases_h3 = bias_variable([n_hidden_3])\n",
    "\n",
    "e_weights_h4 = weight_variable(\"el4\",[n_hidden_3, n_hidden_4])\n",
    "e_biases_h4 = bias_variable([n_hidden_4])\n",
    "\n",
    "# --------------------------------------------------------- #\n",
    "\n",
    "\n",
    "# --------------------- Decoder Variables --------------- #\n",
    "\n",
    "d_weights_h1 = weight_variable(\"dl1\",[n_hidden_4, n_hidden_3])\n",
    "d_biases_h1 = bias_variable([n_hidden_3])\n",
    "\n",
    "d_weights_h2 = weight_variable(\"dl2\",[n_hidden_3, n_hidden_2])\n",
    "d_biases_h2 = bias_variable([n_hidden_2])\n",
    "\n",
    "d_weights_h3 = weight_variable(\"dl3\",[n_hidden_2, n_hidden_1])\n",
    "d_biases_h3 = bias_variable([n_hidden_1])\n",
    "\n",
    "d_weights_h4 = weight_variable(\"dl4\",[n_hidden_1, input_dim])\n",
    "d_biases_h4 = bias_variable([input_dim])\n",
    "\n",
    "# --------------------------------------------------------- #\n",
    "\n",
    "encoded = encoder(X_drop)\n",
    "decoded = decoder(encoded) \n",
    "\n",
    "regularizer = tf.contrib.layers.l2_regularizer(l2_reg_rate)\n",
    "reg_loss = regularizer(e_weights_h1) + regularizer(e_weights_h2) + regularizer(e_weights_h3) + regularizer(e_weights_h4) \n",
    "cost_function = -tf.reduce_mean(((X * tf.log(decoded)) + ((1 - X) * tf.log(1 - decoded)))) + reg_loss\n",
    "optimizer = tf.train.AdamOptimizer(learning_rate).minimize(cost_function)"
   ]
  },
  {
   "cell_type": "markdown",
   "metadata": {},
   "source": [
    "#### Training and evaluating the model"
   ]
  },
  {
   "cell_type": "code",
   "execution_count": 29,
   "metadata": {
    "scrolled": false
   },
   "outputs": [
    {
     "name": "stdout",
     "output_type": "stream",
     "text": [
      "Epoch    Tr. Loss   Val. Loss\n",
      "0 \t 0.475861   0.476012\n",
      "1 \t 0.218478   0.218851\n",
      "2 \t 0.142419   0.142894\n",
      "3 \t 0.119392   0.1199\n",
      "4 \t 0.110715   0.111231\n",
      "5 \t 0.106854   0.10737\n",
      "6 \t 0.104923   0.105438\n",
      "7 \t 0.103866   0.104385\n",
      "8 \t 0.103243   0.103766\n",
      "9 \t 0.102846   0.103375\n",
      "10 \t 0.102572   0.103108\n",
      "11 \t 0.102344   0.102884\n",
      "12 \t 0.101583   0.102165\n",
      "13 \t 0.0992977   0.100006\n",
      "14 \t 0.0978374   0.0986394\n",
      "15 \t 0.0970705   0.0979281\n",
      "16 \t 0.0965936   0.0974766\n",
      "17 \t 0.0962685   0.0971618\n",
      "18 \t 0.0959919   0.0968857\n",
      "19 \t 0.0957821   0.0966807\n",
      "20 \t 0.0955766   0.0964821\n",
      "21 \t 0.0954114   0.0963235\n",
      "22 \t 0.0952621   0.0961782\n",
      "23 \t 0.0951314   0.09605\n",
      "24 \t 0.0950038   0.0959268\n",
      "25 \t 0.0948948   0.0958247\n",
      "26 \t 0.0947939   0.095729\n",
      "27 \t 0.0946743   0.0956154\n",
      "28 \t 0.0945824   0.0955298\n",
      "29 \t 0.0944866   0.0954413\n",
      "Training ROC AUC:  0.8365\n",
      "Validation ROC AUC:  0.8358\n",
      "Test ROC AUC:  0.8339 \n",
      "\n"
     ]
    }
   ],
   "source": [
    "with tf.Session() as session:\n",
    "    tf.global_variables_initializer().run()\n",
    "    print(\"Epoch\",\"  \",\"Tr. Loss\",\" \",\"Val. Loss\")\n",
    "    for epoch in range(training_epochs):\n",
    "        for b in range(total_batches):\n",
    "            offset = (b * batch_size) % (train_x.shape[0] - batch_size)\n",
    "            batch_x = train_x[offset:(offset + batch_size), :] \n",
    "            _, c = session.run([optimizer, cost_function],feed_dict={X: batch_x, is_training: True})\n",
    "    \n",
    "        tr_c = session.run(cost_function,feed_dict={X: train_x, is_training: False})\n",
    "        val_c = session.run(cost_function,feed_dict={X: validation_x, is_training: False})\n",
    "        print(epoch,\"\\t\",tr_c,\" \",val_c)\n",
    "    \n",
    "    tr_p = session.run(decoded,feed_dict={X: train_x, is_training: False})\n",
    "    roc_auc = roc_auc_score(train_x,tr_p,average = \"samples\")\n",
    "    print(\"Training ROC AUC: \", round(roc_auc,4))\n",
    "\n",
    "    val_p = session.run(decoded,feed_dict={X: validation_x, is_training: False})\n",
    "    roc_auc = roc_auc_score(validation_x,val_p,average = \"samples\")\n",
    "    print(\"Validation ROC AUC: \", round(roc_auc,4))\n",
    "    \n",
    "    ts_p = session.run(decoded,feed_dict={X: test_x, is_training: False})\n",
    "    roc_auc = roc_auc_score(test_x,ts_p,average = \"samples\")\n",
    "    print(\"Test ROC AUC: \", round(roc_auc,4),\"\\n\")\n",
    "    \n",
    "    \n",
    "    # -------------------------------------------------------------------------------- #\n",
    "    item_preds = session.run(decoded,feed_dict={X: test_x.reshape(-1,169), is_training: False})\n",
    "    item_preds[item_preds >= 0.1] = 1\n",
    "    item_preds[item_preds < 0.1] = 0\n",
    "    # -------------------------------------------------------------------------------- #"
   ]
  },
  {
   "cell_type": "code",
   "execution_count": 39,
   "metadata": {},
   "outputs": [
    {
     "name": "stdout",
     "output_type": "stream",
     "text": [
      "Items in basket:  ['abrasive cleaner' 'candy' 'chicken' 'cleaner' 'root vegetables' 'sausage'\n",
      " 'tropical fruit' 'whole milk' 'yogurt']\n",
      "Recommended item(s):  ['beef' 'bottled beer' 'bottled water' 'brown bread' 'butter' 'canned beer'\n",
      " 'citrus fruit' 'coffee' 'curd' 'domestic eggs' 'frankfurter'\n",
      " 'fruit/vegetable juice' 'margarine' 'newspapers' 'other vegetables'\n",
      " 'pastry' 'pip fruit' 'pork' 'rolls/buns' 'root vegetables' 'sausage'\n",
      " 'shopping bags' 'soda' 'tropical fruit' 'whipped/sour cream' 'whole milk'\n",
      " 'yogurt']\n"
     ]
    }
   ],
   "source": [
    "i = 60\n",
    "print(\"Items in basket: \",get_items_from_ohe(test_x[i],unique_items))\n",
    "print(\"Recommended item(s): \",get_items_from_ohe(item_preds[i],unique_items))"
   ]
  },
  {
   "cell_type": "code",
   "execution_count": null,
   "metadata": {
    "collapsed": true
   },
   "outputs": [],
   "source": []
  }
 ],
 "metadata": {
  "kernelspec": {
   "display_name": "Python 3",
   "language": "python",
   "name": "python3"
  },
  "language_info": {
   "codemirror_mode": {
    "name": "ipython",
    "version": 3
   },
   "file_extension": ".py",
   "mimetype": "text/x-python",
   "name": "python",
   "nbconvert_exporter": "python",
   "pygments_lexer": "ipython3",
   "version": "3.5.3"
  }
 },
 "nbformat": 4,
 "nbformat_minor": 2
}
